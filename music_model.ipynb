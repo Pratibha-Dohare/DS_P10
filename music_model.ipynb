{
 "cells": [
  {
   "cell_type": "code",
   "execution_count": 5,
   "id": "2d498eb8",
   "metadata": {},
   "outputs": [],
   "source": [
    "#Import libraries\n",
    "\n",
    "import numpy as np\n",
    "import pandas as pd\n",
    "\n",
    "from sklearn.tree import DecisionTreeClassifier\n",
    "import joblib\n",
    "from sklearn.model_selection import train_test_split\n",
    "from sklearn.metrics import accuracy_score"
   ]
  },
  {
   "cell_type": "code",
   "execution_count": 6,
   "id": "77fa8845",
   "metadata": {},
   "outputs": [
    {
     "data": {
      "text/plain": [
       "DecisionTreeClassifier()"
      ]
     },
     "execution_count": 6,
     "metadata": {},
     "output_type": "execute_result"
    }
   ],
   "source": [
    "data = pd.read_csv('music.csv')\n",
    "input_data = data.drop(['genre'], axis=1)\n",
    "output_data =data['genre']\n",
    "model=DecisionTreeClassifier()\n",
    "model.fit(input_data,output_data)"
   ]
  },
  {
   "cell_type": "code",
   "execution_count": 7,
   "id": "ebe7b822",
   "metadata": {},
   "outputs": [
    {
     "data": {
      "text/plain": [
       "array(['Rock'], dtype=object)"
      ]
     },
     "execution_count": 7,
     "metadata": {},
     "output_type": "execute_result"
    }
   ],
   "source": [
    "predictions = model.predict([[28,1]])\n",
    "predictions"
   ]
  },
  {
   "cell_type": "code",
   "execution_count": 8,
   "id": "c9e6a52e",
   "metadata": {},
   "outputs": [
    {
     "data": {
      "text/plain": [
       "['musicModel.joblib']"
      ]
     },
     "execution_count": 8,
     "metadata": {},
     "output_type": "execute_result"
    }
   ],
   "source": [
    "joblib.dump(model,\"musicModel.joblib\")"
   ]
  },
  {
   "cell_type": "code",
   "execution_count": 13,
   "id": "8a1d43e4",
   "metadata": {},
   "outputs": [
    {
     "data": {
      "text/plain": [
       "array(['Classical'], dtype=object)"
      ]
     },
     "execution_count": 13,
     "metadata": {},
     "output_type": "execute_result"
    }
   ],
   "source": [
    "joblib.load('musicModel.joblib')\n",
    "model.predict([[33,0]])"
   ]
  },
  {
   "cell_type": "code",
   "execution_count": 19,
   "id": "61e2774e",
   "metadata": {},
   "outputs": [],
   "source": [
    "import pandas as pd\n",
    "from sklearn.tree import DecisionTreeClassifier\n",
    "from sklearn import tree\n",
    "\n",
    "\n",
    "data = pd.read_csv('music.csv')\n",
    "input_data = data.drop(['genre'], axis=1)\n",
    "output_data =data['genre']\n",
    "model=DecisionTreeClassifier()\n",
    "model.fit(input_data,output_data)\n",
    "\n",
    "tree.export_graphviz(model,\n",
    "                  feature_names=['age', 'genre'], \n",
    "                  class_names=sorted(output_data.unique()),\n",
    "                  label='all', \n",
    "                  rounded=True,\n",
    "                  filled=True,\n",
    "                 out_file='musicModelDrawing.dot')"
   ]
  },
  {
   "cell_type": "code",
   "execution_count": null,
   "id": "f9c1f6bb",
   "metadata": {},
   "outputs": [],
   "source": []
  }
 ],
 "metadata": {
  "kernelspec": {
   "display_name": "Python 3 (ipykernel)",
   "language": "python",
   "name": "python3"
  },
  "language_info": {
   "codemirror_mode": {
    "name": "ipython",
    "version": 3
   },
   "file_extension": ".py",
   "mimetype": "text/x-python",
   "name": "python",
   "nbconvert_exporter": "python",
   "pygments_lexer": "ipython3",
   "version": "3.9.7"
  }
 },
 "nbformat": 4,
 "nbformat_minor": 5
}
